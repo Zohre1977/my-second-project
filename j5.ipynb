{
 "cells": [
  {
   "cell_type": "code",
   "execution_count": 8,
   "id": "9ebda492",
   "metadata": {},
   "outputs": [],
   "source": [
    "import cv2\n",
    "img=cv2.imread((\"OIP.webp\"))\n",
    "img=cv2.putText(img, \"Nature\", (30,30), cv2.FONT_HERSHEY_SIMPLEX, 1, (0,0,0),2)\n",
    "img=cv2.rectangle(img, (50,50),(400,250), (0,0,0),2)"
   ]
  },
  {
   "cell_type": "code",
   "execution_count": 9,
   "id": "bc79735c",
   "metadata": {},
   "outputs": [
    {
     "data": {
      "text/plain": [
       "(316, 474, 3)"
      ]
     },
     "execution_count": 9,
     "metadata": {},
     "output_type": "execute_result"
    }
   ],
   "source": [
    "img.shape"
   ]
  },
  {
   "cell_type": "code",
   "execution_count": 10,
   "id": "3be2eac9",
   "metadata": {},
   "outputs": [
    {
     "data": {
      "text/plain": [
       "3"
      ]
     },
     "execution_count": 10,
     "metadata": {},
     "output_type": "execute_result"
    }
   ],
   "source": [
    "img.ndim"
   ]
  },
  {
   "cell_type": "code",
   "execution_count": 11,
   "id": "fea6d9f7",
   "metadata": {},
   "outputs": [
    {
     "data": {
      "text/plain": [
       "True"
      ]
     },
     "execution_count": 11,
     "metadata": {},
     "output_type": "execute_result"
    }
   ],
   "source": [
    "cv2.imwrite('image2.jpg',img)"
   ]
  },
  {
   "cell_type": "code",
   "execution_count": 12,
   "id": "6802dcd5",
   "metadata": {},
   "outputs": [],
   "source": [
    "\n",
    "cv2.imshow('image', img)\n",
    "cv2.waitKey(0)\n",
    "cv2.destroyAllWindows()"
   ]
  },
  {
   "cell_type": "code",
   "execution_count": 13,
   "id": "f4371ba7",
   "metadata": {},
   "outputs": [],
   "source": [
    "cap = cv2.VideoCapture('j3.mp4')"
   ]
  },
  {
   "cell_type": "code",
   "execution_count": 14,
   "id": "806733a4",
   "metadata": {},
   "outputs": [],
   "source": [
    "r, img = cap.read()"
   ]
  },
  {
   "cell_type": "code",
   "execution_count": 15,
   "id": "c0b9641a",
   "metadata": {},
   "outputs": [],
   "source": [
    "while(True):\n",
    "    r, img = cap.read()\n",
    "    cv2.imshow('image',img)\n",
    "    k=cv2.waitKey(0)\n",
    "    if k==ord(\"q\"):\n",
    "        cv2.destroyAllWindows()\n",
    "        break   "
   ]
  },
  {
   "cell_type": "code",
   "execution_count": 16,
   "id": "84dfbed0",
   "metadata": {},
   "outputs": [],
   "source": [
    "while(True):\n",
    "    r, img = cap.read()\n",
    "    img=cv2.putText(img, \"Nature\", (120,30), cv2.FONT_HERSHEY_SIMPLEX, 1, (0,250,),2)\n",
    "    cv2.imshow('image',img)\n",
    "    k=cv2.waitKey(1)\n",
    "    if k==ord(\"q\"):\n",
    "        cv2.destroyAllWindows()\n",
    "        break   "
   ]
  }
 ],
 "metadata": {
  "kernelspec": {
   "display_name": "Python 3",
   "language": "python",
   "name": "python3"
  },
  "language_info": {
   "codemirror_mode": {
    "name": "ipython",
    "version": 3
   },
   "file_extension": ".py",
   "mimetype": "text/x-python",
   "name": "python",
   "nbconvert_exporter": "python",
   "pygments_lexer": "ipython3",
   "version": "3.10.11"
  }
 },
 "nbformat": 4,
 "nbformat_minor": 5
}
